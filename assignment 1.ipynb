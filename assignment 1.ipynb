{
 "cells": [
  {
   "cell_type": "code",
   "execution_count": 1,
   "id": "658ecdf1-2201-4119-864d-16577fc6492a",
   "metadata": {},
   "outputs": [],
   "source": [
    "a=\"sham\"   #q1.1"
   ]
  },
  {
   "cell_type": "code",
   "execution_count": 2,
   "id": "d73cef22-958d-43be-8a19-b82d57c1bf71",
   "metadata": {},
   "outputs": [
    {
     "data": {
      "text/plain": [
       "'sham'"
      ]
     },
     "execution_count": 2,
     "metadata": {},
     "output_type": "execute_result"
    }
   ],
   "source": [
    "a"
   ]
  },
  {
   "cell_type": "code",
   "execution_count": 4,
   "id": "e986ace1-5c10-4d5a-a393-796aed829ec8",
   "metadata": {},
   "outputs": [
    {
     "data": {
      "text/plain": [
       "str"
      ]
     },
     "execution_count": 4,
     "metadata": {},
     "output_type": "execute_result"
    }
   ],
   "source": [
    "type(a)"
   ]
  },
  {
   "cell_type": "code",
   "execution_count": 5,
   "id": "d0c9555d-3a99-479a-b22e-dfe46b09887d",
   "metadata": {},
   "outputs": [],
   "source": [
    "l=[1,\"pw skills\",1.21,True]     #q.1:2"
   ]
  },
  {
   "cell_type": "code",
   "execution_count": 6,
   "id": "eca967ee-84a6-4b8f-abc4-a2042451c0e6",
   "metadata": {},
   "outputs": [
    {
     "data": {
      "text/plain": [
       "[1, 'pw skills', 1.21, True]"
      ]
     },
     "execution_count": 6,
     "metadata": {},
     "output_type": "execute_result"
    }
   ],
   "source": [
    "l"
   ]
  },
  {
   "cell_type": "code",
   "execution_count": 7,
   "id": "b5f34907-063a-4497-ae8a-ebb78379d923",
   "metadata": {},
   "outputs": [
    {
     "data": {
      "text/plain": [
       "list"
      ]
     },
     "execution_count": 7,
     "metadata": {},
     "output_type": "execute_result"
    }
   ],
   "source": [
    "type(l)"
   ]
  },
  {
   "cell_type": "code",
   "execution_count": 8,
   "id": "8ded7599-32cf-4222-bcfd-7a6e4a8118e8",
   "metadata": {},
   "outputs": [],
   "source": [
    "f=3.8889   #q1.3"
   ]
  },
  {
   "cell_type": "code",
   "execution_count": 9,
   "id": "34402683-044a-42cf-8c8c-4bb608050fe8",
   "metadata": {},
   "outputs": [
    {
     "data": {
      "text/plain": [
       "3.8889"
      ]
     },
     "execution_count": 9,
     "metadata": {},
     "output_type": "execute_result"
    }
   ],
   "source": [
    "f"
   ]
  },
  {
   "cell_type": "code",
   "execution_count": 10,
   "id": "94ac33a5-0feb-4706-963e-499830b68fac",
   "metadata": {},
   "outputs": [
    {
     "data": {
      "text/plain": [
       "float"
      ]
     },
     "execution_count": 10,
     "metadata": {},
     "output_type": "execute_result"
    }
   ],
   "source": [
    "type(f)"
   ]
  },
  {
   "cell_type": "code",
   "execution_count": 11,
   "id": "619b29f7-eb2c-4a5b-8d81-025c985fa04e",
   "metadata": {},
   "outputs": [],
   "source": [
    "my_tuple=(3,\"ram\",3.79)       #q1.4"
   ]
  },
  {
   "cell_type": "code",
   "execution_count": 12,
   "id": "ffd3b05a-718f-4695-ac24-bea84e9bcec1",
   "metadata": {},
   "outputs": [
    {
     "data": {
      "text/plain": [
       "(3, 'ram', 3.79)"
      ]
     },
     "execution_count": 12,
     "metadata": {},
     "output_type": "execute_result"
    }
   ],
   "source": [
    "my_tuple"
   ]
  },
  {
   "cell_type": "code",
   "execution_count": 13,
   "id": "84d004ac-db4e-46d9-8445-0f33907782c7",
   "metadata": {},
   "outputs": [
    {
     "data": {
      "text/plain": [
       "tuple"
      ]
     },
     "execution_count": 13,
     "metadata": {},
     "output_type": "execute_result"
    }
   ],
   "source": [
    "type(my_tuple)"
   ]
  },
  {
   "cell_type": "code",
   "execution_count": 14,
   "id": "543a26c5-c633-4fef-8e95-df863ff3f437",
   "metadata": {},
   "outputs": [],
   "source": [
    "var1=' '          #q2.1"
   ]
  },
  {
   "cell_type": "code",
   "execution_count": 15,
   "id": "937581b9-3235-4268-b9a2-11849eeb5518",
   "metadata": {},
   "outputs": [
    {
     "data": {
      "text/plain": [
       "' '"
      ]
     },
     "execution_count": 15,
     "metadata": {},
     "output_type": "execute_result"
    }
   ],
   "source": [
    "var1"
   ]
  },
  {
   "cell_type": "code",
   "execution_count": 16,
   "id": "1a95b6b8-7929-42c2-90a8-186631dda2c7",
   "metadata": {},
   "outputs": [
    {
     "data": {
      "text/plain": [
       "str"
      ]
     },
     "execution_count": 16,
     "metadata": {},
     "output_type": "execute_result"
    }
   ],
   "source": [
    "type(var1)      "
   ]
  },
  {
   "cell_type": "code",
   "execution_count": 17,
   "id": "017e712a-a37e-4c2c-b865-9fd4e0c0a3fb",
   "metadata": {},
   "outputs": [],
   "source": [
    "var2='[DS,ML,Python]'           #q2.2"
   ]
  },
  {
   "cell_type": "code",
   "execution_count": 18,
   "id": "b9d2f4ee-2c60-4b05-b9d9-26202ea3dbdf",
   "metadata": {},
   "outputs": [
    {
     "data": {
      "text/plain": [
       "'[DS,ML,Python]'"
      ]
     },
     "execution_count": 18,
     "metadata": {},
     "output_type": "execute_result"
    }
   ],
   "source": [
    "var2"
   ]
  },
  {
   "cell_type": "code",
   "execution_count": 19,
   "id": "41e391b6-68d5-42c3-a0a3-6f66e4c0f4cf",
   "metadata": {},
   "outputs": [
    {
     "data": {
      "text/plain": [
       "str"
      ]
     },
     "execution_count": 19,
     "metadata": {},
     "output_type": "execute_result"
    }
   ],
   "source": [
    "type(var2)"
   ]
  },
  {
   "cell_type": "code",
   "execution_count": 20,
   "id": "218f9943-ea30-409c-acbd-ea784b5296b7",
   "metadata": {},
   "outputs": [],
   "source": [
    "var3=['DS','ML','Python']    #q2.3"
   ]
  },
  {
   "cell_type": "code",
   "execution_count": 21,
   "id": "fd06acb8-2a10-410e-a824-e10abadc6826",
   "metadata": {},
   "outputs": [
    {
     "data": {
      "text/plain": [
       "['DS', 'ML', 'Python']"
      ]
     },
     "execution_count": 21,
     "metadata": {},
     "output_type": "execute_result"
    }
   ],
   "source": [
    "var3"
   ]
  },
  {
   "cell_type": "code",
   "execution_count": 22,
   "id": "7755cd47-1a03-4956-b145-34d008e6356c",
   "metadata": {},
   "outputs": [
    {
     "data": {
      "text/plain": [
       "list"
      ]
     },
     "execution_count": 22,
     "metadata": {},
     "output_type": "execute_result"
    }
   ],
   "source": [
    "type(var3)"
   ]
  },
  {
   "cell_type": "code",
   "execution_count": 23,
   "id": "13ebeea8-0c79-4229-a13f-f68c07b61870",
   "metadata": {},
   "outputs": [],
   "source": [
    "var4=1     #q2.4"
   ]
  },
  {
   "cell_type": "code",
   "execution_count": 24,
   "id": "bf1e4f3f-2863-485d-a09b-9d6173a1fa26",
   "metadata": {},
   "outputs": [
    {
     "data": {
      "text/plain": [
       "1"
      ]
     },
     "execution_count": 24,
     "metadata": {},
     "output_type": "execute_result"
    }
   ],
   "source": [
    "var4"
   ]
  },
  {
   "cell_type": "code",
   "execution_count": 25,
   "id": "ca6340d5-0bf1-4113-a021-6d5081aad82a",
   "metadata": {},
   "outputs": [
    {
     "data": {
      "text/plain": [
       "int"
      ]
     },
     "execution_count": 25,
     "metadata": {},
     "output_type": "execute_result"
    }
   ],
   "source": [
    "type(var4)"
   ]
  },
  {
   "cell_type": "code",
   "execution_count": 28,
   "id": "903ba052-a0be-40bb-ace3-f8f4244483c7",
   "metadata": {},
   "outputs": [
    {
     "name": "stdout",
     "output_type": "stream",
     "text": [
      "x / y= 0.5\n"
     ]
    }
   ],
   "source": [
    "x=5                   #q3.1\n",
    "y=10\n",
    "print('x / y=',x/y)\n"
   ]
  },
  {
   "cell_type": "code",
   "execution_count": 30,
   "id": "ad3e9c09-0689-4c6a-b056-74e8e8d8d86e",
   "metadata": {},
   "outputs": [
    {
     "name": "stdout",
     "output_type": "stream",
     "text": [
      "x % y= 5\n"
     ]
    }
   ],
   "source": [
    "x=5                  #q3.2\n",
    "y=10\n",
    "print('x % y=',x%y)\n"
   ]
  },
  {
   "cell_type": "code",
   "execution_count": 31,
   "id": "60ee7042-fa6e-4a80-af25-3d05e47767d0",
   "metadata": {},
   "outputs": [
    {
     "name": "stdout",
     "output_type": "stream",
     "text": [
      "x // y= 0\n"
     ]
    }
   ],
   "source": [
    "x=5                  #q3.3\n",
    "y=10\n",
    "print('x // y=',x//y)\n"
   ]
  },
  {
   "cell_type": "code",
   "execution_count": 32,
   "id": "136ad53c-5a9b-4307-b482-c1e91ed9ff25",
   "metadata": {},
   "outputs": [
    {
     "name": "stdout",
     "output_type": "stream",
     "text": [
      "x ** y= 9765625\n"
     ]
    }
   ],
   "source": [
    "x=5                  #q3.4\n",
    "y=10\n",
    "print('x ** y=',x**y)\n"
   ]
  },
  {
   "cell_type": "code",
   "execution_count": 33,
   "id": "15624778-6461-48d0-b7a7-c3b6653387df",
   "metadata": {},
   "outputs": [],
   "source": [
    "l=[33,\"johnny\",33.33,False]   #q4"
   ]
  },
  {
   "cell_type": "code",
   "execution_count": 34,
   "id": "80dedfa8-16c7-4dde-8e8b-0ccf7fe7b7aa",
   "metadata": {},
   "outputs": [
    {
     "name": "stdout",
     "output_type": "stream",
     "text": [
      "<class 'int'>\n",
      "<class 'str'>\n",
      "<class 'float'>\n",
      "<class 'bool'>\n"
     ]
    }
   ],
   "source": [
    "for a in l :\n",
    "    print(type(a))"
   ]
  },
  {
   "cell_type": "code",
   "execution_count": 2,
   "id": "5ede7943-453c-44d9-a6e6-19ebd1697fb7",
   "metadata": {},
   "outputs": [
    {
     "name": "stdout",
     "output_type": "stream",
     "text": [
      "1.6666666666666667\n",
      "2.0\n",
      "3.0\n",
      "3.6666666666666665\n",
      "4.333333333333333\n",
      "5.0\n",
      "5.666666666666667\n",
      "6.333333333333333\n",
      "7.333333333333333\n",
      "8.0\n",
      "9.0\n",
      "9.666666666666666\n",
      "11.0\n",
      "12.0\n",
      "13.0\n",
      "14.0\n",
      "14.666666666666666\n",
      "15.666666666666666\n",
      "16.333333333333332\n",
      "17.333333333333332\n",
      "18.333333333333332\n",
      "18.666666666666668\n",
      "19.666666666666668\n",
      "20.666666666666668\n",
      "22.0\n",
      "YES\n"
     ]
    }
   ],
   "source": [
    "l=[5,6,9,11,13,15,17,19,22,24,27,29,33,36,39,42,44,47,49,52,55,56,59,62,66]\n",
    "for x in l:\n",
    "    print(x/3)\n",
    "if x/3:\n",
    "    print(\"YES\")\n",
    "else:\n",
    "    print(\"NO\")"
   ]
  },
  {
   "cell_type": "code",
   "execution_count": 3,
   "id": "d29829f0-cf04-451e-882b-b95312ff170c",
   "metadata": {},
   "outputs": [
    {
     "name": "stdout",
     "output_type": "stream",
     "text": [
      "(0, 1, 2, 3)\n"
     ]
    }
   ],
   "source": [
    "tuple1=(0,1,2,3)\n",
    "tuple1[0]\n",
    "print(tuple1)    #tuple does not suport"
   ]
  },
  {
   "cell_type": "code",
   "execution_count": 7,
   "id": "153048d5-bc7a-460a-9356-1ff3d25d2821",
   "metadata": {},
   "outputs": [],
   "source": [
    "colour=[\"red\",\"blue\",\"green\"]  #mutable\n",
    "\n"
   ]
  },
  {
   "cell_type": "code",
   "execution_count": 8,
   "id": "69e41e39-5f84-48f0-8bac-41d600f15c59",
   "metadata": {},
   "outputs": [
    {
     "data": {
      "text/plain": [
       "list"
      ]
     },
     "execution_count": 8,
     "metadata": {},
     "output_type": "execute_result"
    }
   ],
   "source": [
    "type(colour)\n"
   ]
  },
  {
   "cell_type": "code",
   "execution_count": 9,
   "id": "f76f8ab0-1ff5-4099-b245-c481a4cf8ee2",
   "metadata": {},
   "outputs": [],
   "source": [
    "colour[0]=\"pink\""
   ]
  },
  {
   "cell_type": "code",
   "execution_count": 10,
   "id": "1cadd614-cf5c-4038-8474-1e42d4c8a066",
   "metadata": {},
   "outputs": [
    {
     "data": {
      "text/plain": [
       "['pink', 'blue', 'green']"
      ]
     },
     "execution_count": 10,
     "metadata": {},
     "output_type": "execute_result"
    }
   ],
   "source": [
    "colour"
   ]
  },
  {
   "cell_type": "code",
   "execution_count": null,
   "id": "e90e586a-4f4b-40e3-8388-38a6bb554415",
   "metadata": {},
   "outputs": [],
   "source": []
  }
 ],
 "metadata": {
  "kernelspec": {
   "display_name": "Python 3 (ipykernel)",
   "language": "python",
   "name": "python3"
  },
  "language_info": {
   "codemirror_mode": {
    "name": "ipython",
    "version": 3
   },
   "file_extension": ".py",
   "mimetype": "text/x-python",
   "name": "python",
   "nbconvert_exporter": "python",
   "pygments_lexer": "ipython3",
   "version": "3.10.8"
  }
 },
 "nbformat": 4,
 "nbformat_minor": 5
}
